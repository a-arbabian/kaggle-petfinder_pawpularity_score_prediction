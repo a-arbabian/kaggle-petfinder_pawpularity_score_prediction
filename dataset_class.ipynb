{
 "cells": [
  {
   "cell_type": "code",
   "execution_count": 1,
   "id": "04cf5fd0-6642-48dd-8b5a-2c47006186a6",
   "metadata": {},
   "outputs": [],
   "source": [
    "%matplotlib inline"
   ]
  },
  {
   "cell_type": "code",
   "execution_count": 54,
   "id": "2d19a293-8a6c-4e16-b0e4-19d748a512d8",
   "metadata": {},
   "outputs": [],
   "source": [
    "import os\n",
    "import numpy as np\n",
    "import matplotlib.pyplot as plt\n",
    "import pandas as pd\n",
    "from PIL import Image\n",
    "import albumentations as A\n",
    "\n",
    "from torch.utils.data import Dataset, DataLoader\n",
    "from torch import as_tensor"
   ]
  },
  {
   "cell_type": "code",
   "execution_count": 3,
   "id": "0c6bf9f7-31ac-4c71-8b1b-229aa54d7f46",
   "metadata": {},
   "outputs": [],
   "source": [
    "data_root = \"/home/ali/data/petfinder_pawpularity_score/\""
   ]
  },
  {
   "cell_type": "code",
   "execution_count": 56,
   "id": "0956c72d-50b7-4262-af7a-90e919dcb5d2",
   "metadata": {},
   "outputs": [],
   "source": [
    "class PetDataset(Dataset):\n",
    "    def __init__(self, root_dir, csv_path, num_bins = 10, augment_fn=None, as_tensor=False):\n",
    "        self.root_dir = root_dir\n",
    "        self.df = pd.read_csv(csv_path)\n",
    "        self.augment = augment_fn\n",
    "        self.num_bins = num_bins\n",
    "        self.as_tensor = as_tensor\n",
    "        \n",
    "    def __len__(self):\n",
    "        return len(self.df)\n",
    "    \n",
    "    def bin_label(self, label):\n",
    "        # data = np.random.randint(1, 101, size=(100))\n",
    "        bins = np.linspace(0, 100, self.num_bins+1)\n",
    "        digitized = np.digitize(label, bins, right=True)\n",
    "        return digitized\n",
    "        \n",
    "    def __getitem__(self, idx):\n",
    "        row = self.df.iloc[idx]\n",
    "        img_id = row[\"Id\"]\n",
    "        raw_label = row[\"Pawpularity\"]\n",
    "        \n",
    "        img_path = os.path.join(self.root_dir, img_id) + \".jpg\"\n",
    "        img = Image.open(img_path)\n",
    "        width, height = map(int, img.size)\n",
    "        img = np.asarray(img)\n",
    "        \n",
    "        assert img.dtype == np.uint8\n",
    "        if self.augment:\n",
    "            img = self.augment(image=img)[\"image\"]\n",
    "        img = np.clip(img, 0.0, 1.0)\n",
    "        label = self.bin_label(raw_label)\n",
    "\n",
    "        \n",
    "        if self.as_tensor:\n",
    "            img = as_tensor(img).cuda()\n",
    "            label = as_tensor(label).cuda()\n",
    "            \n",
    "        sample = {\n",
    "            \"image\": img,\n",
    "            \"label\": label,\n",
    "            \"raw_label\": raw_label,\n",
    "            \"width\": width,\n",
    "            \"height\": height,\n",
    "        }\n",
    "        \n",
    "        return sample\n",
    "        \n",
    "    \n"
   ]
  },
  {
   "cell_type": "code",
   "execution_count": 57,
   "id": "9b4df3af-841c-4665-817c-91e85446ec61",
   "metadata": {},
   "outputs": [],
   "source": [
    "train_augments = A.Compose([\n",
    "    A.LongestMaxSize(max_size=224, interpolation=1),\n",
    "    A.PadIfNeeded(min_height=224, min_width=224, border_mode=0, value=(0,0,0)),\n",
    "    A.HorizontalFlip(p=0.5),\n",
    "    A.Normalize(),\n",
    "    A.ToFloat(),\n",
    "])\n",
    "\n",
    "train_dataset = PetDataset(data_root + \"train/\",\n",
    "                           data_root + \"train.csv\",\n",
    "                          augment_fn = train_augments)"
   ]
  },
  {
   "cell_type": "code",
   "execution_count": null,
   "id": "38398e6d-be98-43aa-940f-4323566aaaca",
   "metadata": {},
   "outputs": [],
   "source": []
  },
  {
   "cell_type": "code",
   "execution_count": null,
   "id": "ad8dfaf5-a820-4956-bcef-4284a3600884",
   "metadata": {},
   "outputs": [],
   "source": []
  },
  {
   "cell_type": "code",
   "execution_count": null,
   "id": "7b8d195c-fa82-4d28-966b-c7427dbe0d53",
   "metadata": {},
   "outputs": [],
   "source": []
  }
 ],
 "metadata": {
  "kernelspec": {
   "display_name": "Python 3 (ipykernel)",
   "language": "python",
   "name": "python3"
  },
  "language_info": {
   "codemirror_mode": {
    "name": "ipython",
    "version": 3
   },
   "file_extension": ".py",
   "mimetype": "text/x-python",
   "name": "python",
   "nbconvert_exporter": "python",
   "pygments_lexer": "ipython3",
   "version": "3.8.0"
  }
 },
 "nbformat": 4,
 "nbformat_minor": 5
}
